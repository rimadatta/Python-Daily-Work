{
 "cells": [
  {
   "cell_type": "code",
   "execution_count": 1,
   "id": "26671875-df90-45fe-ad2f-c9ad6e3115b4",
   "metadata": {},
   "outputs": [],
   "source": [
    "import numpy as np\n",
    "import matplotlib.pyplot as plt\n",
    "import cv2"
   ]
  },
  {
   "cell_type": "code",
   "execution_count": 3,
   "id": "d1688bf8-bbe3-488d-8d25-cc15066f1db4",
   "metadata": {},
   "outputs": [],
   "source": [
    "img = cv2.imread('images/cat_damaged.png')\n",
    "cv2.imshow('Damaged Image', img)\n",
    "cv2.waitKey(0)\n",
    "cv2.destroyAllWindows()"
   ]
  },
  {
   "cell_type": "code",
   "execution_count": 4,
   "id": "a5a2ba10-0744-4ff4-bc58-5b02b4d8a7d5",
   "metadata": {},
   "outputs": [],
   "source": [
    "height, width = img.shape[:2]"
   ]
  },
  {
   "cell_type": "code",
   "execution_count": 5,
   "id": "26f3c655-e8de-43cd-8a10-490fa2ca6af7",
   "metadata": {},
   "outputs": [
    {
     "data": {
      "text/plain": [
       "(400, 400)"
      ]
     },
     "execution_count": 5,
     "metadata": {},
     "output_type": "execute_result"
    }
   ],
   "source": [
    "height, width"
   ]
  },
  {
   "cell_type": "code",
   "execution_count": 6,
   "id": "b289ef98-baab-4c9a-99f3-87691e2562dd",
   "metadata": {},
   "outputs": [],
   "source": [
    "mask = np.zeros([height, width, 3], dtype=np.uint8)"
   ]
  },
  {
   "cell_type": "code",
   "execution_count": 7,
   "id": "27abde65-3610-4068-82e6-6d8babb44c08",
   "metadata": {},
   "outputs": [],
   "source": [
    "cv2.imshow('Mask', mask)\n",
    "cv2.waitKey(0)\n",
    "cv2.destroyAllWindows()"
   ]
  },
  {
   "cell_type": "code",
   "execution_count": 8,
   "id": "4d14ff72-80f1-4714-9068-c03614cac8f2",
   "metadata": {},
   "outputs": [],
   "source": [
    "for i in range(height):\n",
    "    for j in range(width):\n",
    "        if img[i,j].sum()==0: # checks if sum of all 3 channels that is R, G, B is zero (completely black)\n",
    "            mask[i,j]=[255,255,255] # where there is black defect in img, replace those index with white in mask"
   ]
  },
  {
   "cell_type": "code",
   "execution_count": 10,
   "id": "5a060930-34e8-4b62-9d9a-8eea22a07e1a",
   "metadata": {},
   "outputs": [],
   "source": [
    "cv2.imshow('Mask', mask)\n",
    "cv2.waitKey(0)\n",
    "cv2.destroyAllWindows()"
   ]
  },
  {
   "cell_type": "code",
   "execution_count": 11,
   "id": "ed4a313d-c267-40df-83d8-3f9e6cd60739",
   "metadata": {},
   "outputs": [],
   "source": [
    "mask = cv2.cvtColor(mask, cv2.COLOR_BGR2GRAY) # IN PAINT FUNCTION REQUIRES MASK IN GRAY FORM"
   ]
  },
  {
   "cell_type": "code",
   "execution_count": 12,
   "id": "b5a36cdf-d30c-470f-b5e3-fb8057e8d2b3",
   "metadata": {},
   "outputs": [],
   "source": [
    "# Inpaint\n",
    "\n",
    "dst = cv2.inpaint(img, mask, 3, cv2.INPAINT_NS)"
   ]
  },
  {
   "cell_type": "code",
   "execution_count": 15,
   "id": "6a0b95ce-bb30-4fbc-8b94-f6a329acc888",
   "metadata": {},
   "outputs": [],
   "source": [
    "cv2.imshow('Repaired Image', dst)\n",
    "cv2.waitKey(0)\n",
    "cv2.destroyAllWindows()"
   ]
  },
  {
   "cell_type": "code",
   "execution_count": 17,
   "id": "9a23f057-469d-4b6d-8689-5b629bbd4bdf",
   "metadata": {},
   "outputs": [
    {
     "data": {
      "text/plain": [
       "True"
      ]
     },
     "execution_count": 17,
     "metadata": {},
     "output_type": "execute_result"
    }
   ],
   "source": [
    "cv2.imwrite(\"Repaired_cat_Image.jpg\", dst)"
   ]
  },
  {
   "cell_type": "code",
   "execution_count": null,
   "id": "1fef358d-444b-428e-8f8a-a51f9d740f39",
   "metadata": {},
   "outputs": [],
   "source": []
  }
 ],
 "metadata": {
  "kernelspec": {
   "display_name": "Python 3 (ipykernel)",
   "language": "python",
   "name": "python3"
  },
  "language_info": {
   "codemirror_mode": {
    "name": "ipython",
    "version": 3
   },
   "file_extension": ".py",
   "mimetype": "text/x-python",
   "name": "python",
   "nbconvert_exporter": "python",
   "pygments_lexer": "ipython3",
   "version": "3.11.7"
  }
 },
 "nbformat": 4,
 "nbformat_minor": 5
}
