{
 "cells": [
  {
   "cell_type": "code",
   "execution_count": 1,
   "id": "eb1c994c-55ca-42c8-bc7a-dca734297148",
   "metadata": {},
   "outputs": [],
   "source": [
    "import cv2\n",
    "import numpy as np\n",
    "import matplotlib.pyplot as plt"
   ]
  },
  {
   "cell_type": "code",
   "execution_count": 15,
   "id": "fc692b96-54a3-4ab3-bc5a-05332ccd4143",
   "metadata": {},
   "outputs": [],
   "source": [
    "image = cv2.imread('images/lena.png')\n",
    "\n",
    "#store height and width of the image except the color channel (slicing from 0:2)\n",
    "height, width = image.shape[:2]\n",
    "\n",
    "quarter_height, quarter_width = height/4, width/4\n",
    "\n",
    "T=np.float32([[1,0,quarter_width],[0,1,quarter_height]]) # A translation matrix T is being multiplied to the quarter_height,width of original image to shift pixels and form a new image\n",
    "img_translation = cv2.warpAffine(image, T, (width,height))"
   ]
  },
  {
   "cell_type": "code",
   "execution_count": 3,
   "id": "5e94b567-30cd-46e1-8886-baa8313dfd0c",
   "metadata": {},
   "outputs": [
    {
     "data": {
      "text/plain": [
       "array([[  1.,   0., 128.],\n",
       "       [  0.,   1., 128.]], dtype=float32)"
      ]
     },
     "execution_count": 3,
     "metadata": {},
     "output_type": "execute_result"
    }
   ],
   "source": [
    "T"
   ]
  },
  {
   "cell_type": "code",
   "execution_count": 11,
   "id": "d220ff8d-c4bb-43f4-9f67-6a7b7e83e2be",
   "metadata": {},
   "outputs": [],
   "source": [
    "cv2.imshow(\"Original image\", image)\n",
    "cv2.imshow(\"Translated Image\",img_translation)\n",
    "cv2.waitKey(0)\n",
    "cv2.destroyAllWindows()"
   ]
  },
  {
   "cell_type": "code",
   "execution_count": 12,
   "id": "0a4da3bf-5e2f-474b-9f44-5bda4a8cf960",
   "metadata": {},
   "outputs": [],
   "source": [
    "image = cv2.imread('images/lena.png')\n",
    "\n",
    "#store height and width of the image except the color channel (slicing from 0:2)\n",
    "height, width = image.shape[:2]\n",
    "\n",
    "T=np.float32([[1,0,-40],[0,1,-50]]) # NEGATIVE PARAMETERS CHANGE THE IMAGE FROM LEFT SIZE\n",
    "\n",
    "#We use warpAffine to transform the image using the matrix - T\n",
    "img_translation = cv2.warpAffine(image, T, (width,height))"
   ]
  },
  {
   "cell_type": "code",
   "execution_count": 14,
   "id": "0a2c66a2-649b-40e2-9cb5-a90138e4365a",
   "metadata": {},
   "outputs": [
    {
     "name": "stdout",
     "output_type": "stream",
     "text": [
      "Help on built-in function warpAffine:\n",
      "\n",
      "warpAffine(...)\n",
      "    warpAffine(src, M, dsize[, dst[, flags[, borderMode[, borderValue]]]]) -> dst\n",
      "    .   @brief Applies an affine transformation to an image.\n",
      "    .   \n",
      "    .   The function warpAffine transforms the source image using the specified matrix:\n",
      "    .   \n",
      "    .   \\f[\\texttt{dst} (x,y) =  \\texttt{src} ( \\texttt{M} _{11} x +  \\texttt{M} _{12} y +  \\texttt{M} _{13}, \\texttt{M} _{21} x +  \\texttt{M} _{22} y +  \\texttt{M} _{23})\\f]\n",
      "    .   \n",
      "    .   when the flag #WARP_INVERSE_MAP is set. Otherwise, the transformation is first inverted\n",
      "    .   with #invertAffineTransform and then put in the formula above instead of M. The function cannot\n",
      "    .   operate in-place.\n",
      "    .   \n",
      "    .   @param src input image.\n",
      "    .   @param dst output image that has the size dsize and the same type as src .\n",
      "    .   @param M \\f$2\\times 3\\f$ transformation matrix.\n",
      "    .   @param dsize size of the output image.\n",
      "    .   @param flags combination of interpolation methods (see #InterpolationFlags) and the optional\n",
      "    .   flag #WARP_INVERSE_MAP that means that M is the inverse transformation (\n",
      "    .   \\f$\\texttt{dst}\\rightarrow\\texttt{src}\\f$ ).\n",
      "    .   @param borderMode pixel extrapolation method (see #BorderTypes); when\n",
      "    .   borderMode=#BORDER_TRANSPARENT, it means that the pixels in the destination image corresponding to\n",
      "    .   the \"outliers\" in the source image are not modified by the function.\n",
      "    .   @param borderValue value used in case of a constant border; by default, it is 0.\n",
      "    .   \n",
      "    .   @sa  warpPerspective, resize, remap, getRectSubPix, transform\n",
      "\n"
     ]
    }
   ],
   "source": [
    "help(cv2.warpAffine)"
   ]
  },
  {
   "cell_type": "code",
   "execution_count": null,
   "id": "5ffa6acf-dc22-4325-bccc-7ce1958e1071",
   "metadata": {},
   "outputs": [],
   "source": []
  }
 ],
 "metadata": {
  "kernelspec": {
   "display_name": "Python 3 (ipykernel)",
   "language": "python",
   "name": "python3"
  },
  "language_info": {
   "codemirror_mode": {
    "name": "ipython",
    "version": 3
   },
   "file_extension": ".py",
   "mimetype": "text/x-python",
   "name": "python",
   "nbconvert_exporter": "python",
   "pygments_lexer": "ipython3",
   "version": "3.11.7"
  }
 },
 "nbformat": 4,
 "nbformat_minor": 5
}
