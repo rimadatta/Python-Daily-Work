{
 "cells": [
  {
   "cell_type": "code",
   "execution_count": 7,
   "id": "0edbdc2b-3775-4f59-bbcc-6bbd3b451f02",
   "metadata": {},
   "outputs": [],
   "source": [
    "import numpy as np\n",
    "import matplotlib.pyplot as plt\n",
    "import cv2"
   ]
  },
  {
   "cell_type": "code",
   "execution_count": 20,
   "id": "ba82288b-e1e7-4bd1-b687-a9b6118ca54f",
   "metadata": {},
   "outputs": [],
   "source": [
    "img = cv2.imread('images/circle.png')\n",
    "gray = cv2.cvtColor(img, cv2.COLOR_BGR2GRAY) # extracting Gray Image\n",
    "\n",
    "# Creates a binary image where pixels above 127 are set to 255 (white) and others to 0(black)\n",
    "thresh = cv2.threshold(gray, 127, 255, cv2.THRESH_BINARY)[1]\n",
    "\n",
    "#cv2.findContours finds contours in the binary image\n",
    "#cv2.RETR_TREE retrieves all contours and creates a heirarchy tree\n",
    "# cv2.CHAIN_APPROX_SIMPLE approximates contours to save memory\n",
    "contours, heirarchy = cv2.findContours(thresh, cv2.RETR_TREE,cv2.CHAIN_APPROX_SIMPLE) # Finding contours using gray image\n",
    "\n",
    "# -1 DRAWS ALL CONTOURS\n",
    "# (0, 255, 0) is the color green\n",
    "# 2 is the thickness of the lines\n",
    "cv2.drawContours(img, contours, -1, (0, 255, 0), 2) # draw all contours in original image (img)\n",
    "\n",
    "# Display the result\n",
    "cv2.imshow('Original Image with Contours', img)\n",
    "cv2.imshow('Gray Image', thresh)\n",
    "cv2.waitKey(0)\n",
    "cv2.destroyAllWindows()"
   ]
  },
  {
   "cell_type": "code",
   "execution_count": null,
   "id": "e9413a0e-e611-417c-b2f6-19e9a3a34cd2",
   "metadata": {},
   "outputs": [],
   "source": []
  }
 ],
 "metadata": {
  "kernelspec": {
   "display_name": "Python 3 (ipykernel)",
   "language": "python",
   "name": "python3"
  },
  "language_info": {
   "codemirror_mode": {
    "name": "ipython",
    "version": 3
   },
   "file_extension": ".py",
   "mimetype": "text/x-python",
   "name": "python",
   "nbconvert_exporter": "python",
   "pygments_lexer": "ipython3",
   "version": "3.11.7"
  }
 },
 "nbformat": 4,
 "nbformat_minor": 5
}
