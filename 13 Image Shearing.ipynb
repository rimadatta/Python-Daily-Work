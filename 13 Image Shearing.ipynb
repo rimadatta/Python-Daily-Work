{
 "cells": [
  {
   "cell_type": "code",
   "execution_count": 26,
   "id": "c2a15844-3390-4278-941e-abc6beebc51f",
   "metadata": {},
   "outputs": [],
   "source": [
    "import numpy as np\n",
    "import cv2\n",
    "import matplotlib.pyplot as plt\n",
    "\n",
    "#Load the image\n",
    "image = cv2.imread('images/lena.png')\n",
    "\n",
    "# Define shearing factors \n",
    "\n",
    "shear_x = 0.25 # Shear along x axis\n",
    "shear_y = 0.45 # Shear along y axis\n",
    "\n",
    "# Create Transformation Matrix\n",
    "M = np.array([[1, shear_x, 0], [shear_y, 1, 0], [0, 0, 1]])\n",
    "\n",
    "rows, cols = image.shape[:2]\n",
    "T = np.float32([[1,0,0],[0,1,50]])\n",
    "\n",
    "# We use warpAffine to transform the image using the matrix T\n",
    "img_translation = cv2.warpAffine(image, T, (int(cols*1.5), int(rows*1.5))) #enlarging the image and creating buffer space\n",
    "sheared_img = cv2.warpPerspective(img_translation, M, (int(cols*1.5), int(rows*1.5)))\n",
    "\n",
    "cv2.imshow('img', sheared_img)\n",
    "cv2.waitKey(0)\n",
    "cv2.destroyAllWindows()"
   ]
  },
  {
   "cell_type": "code",
   "execution_count": null,
   "id": "b6facb11-4a75-49e8-a87f-8bd69548fc1f",
   "metadata": {},
   "outputs": [],
   "source": []
  }
 ],
 "metadata": {
  "kernelspec": {
   "display_name": "Python 3 (ipykernel)",
   "language": "python",
   "name": "python3"
  },
  "language_info": {
   "codemirror_mode": {
    "name": "ipython",
    "version": 3
   },
   "file_extension": ".py",
   "mimetype": "text/x-python",
   "name": "python",
   "nbconvert_exporter": "python",
   "pygments_lexer": "ipython3",
   "version": "3.11.7"
  }
 },
 "nbformat": 4,
 "nbformat_minor": 5
}
