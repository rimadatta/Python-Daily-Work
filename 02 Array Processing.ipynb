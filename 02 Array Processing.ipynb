{
 "cells": [
  {
   "cell_type": "code",
   "execution_count": 1,
   "id": "00dc5be6-28f0-4ebf-bfee-c0b9d0165ea3",
   "metadata": {},
   "outputs": [],
   "source": [
    "import numpy as np"
   ]
  },
  {
   "cell_type": "markdown",
   "id": "29a850ae-4be3-42ae-ba93-a63f4bafa559",
   "metadata": {},
   "source": [
    "##### Create the array"
   ]
  },
  {
   "cell_type": "code",
   "execution_count": 3,
   "id": "cd66c953-25f3-4a26-ae53-5bbc73bbf35e",
   "metadata": {},
   "outputs": [],
   "source": [
    "x = np.array([56,12,35,48,71,11,28])"
   ]
  },
  {
   "cell_type": "code",
   "execution_count": 4,
   "id": "cb99a8af-9bb7-42da-8dd4-87c3e4f999aa",
   "metadata": {},
   "outputs": [
    {
     "name": "stdout",
     "output_type": "stream",
     "text": [
      "[56 12 35 48 71 11 28]\n"
     ]
    }
   ],
   "source": [
    "print(x)"
   ]
  },
  {
   "cell_type": "code",
   "execution_count": 5,
   "id": "6e032c8e-8ca9-47dd-a8af-35639ee1a56c",
   "metadata": {},
   "outputs": [
    {
     "data": {
      "text/plain": [
       "numpy.ndarray"
      ]
     },
     "execution_count": 5,
     "metadata": {},
     "output_type": "execute_result"
    }
   ],
   "source": [
    "type(x)"
   ]
  },
  {
   "cell_type": "code",
   "execution_count": 6,
   "id": "ffc4ab74-69d8-4941-95d7-2eca25ce06cd",
   "metadata": {},
   "outputs": [
    {
     "data": {
      "text/plain": [
       "1"
      ]
     },
     "execution_count": 6,
     "metadata": {},
     "output_type": "execute_result"
    }
   ],
   "source": [
    "x.ndim"
   ]
  },
  {
   "cell_type": "code",
   "execution_count": 7,
   "id": "8b0f2edd-fb7a-402d-9fa2-4dc8c702ab38",
   "metadata": {},
   "outputs": [
    {
     "data": {
      "text/plain": [
       "array([56, 12, 35, 48, 71, 11, 28])"
      ]
     },
     "execution_count": 7,
     "metadata": {},
     "output_type": "execute_result"
    }
   ],
   "source": [
    "x"
   ]
  },
  {
   "cell_type": "code",
   "execution_count": 8,
   "id": "36c185a2-15cb-4470-8251-f4aaf06b82ae",
   "metadata": {},
   "outputs": [
    {
     "data": {
      "text/plain": [
       "dtype('int32')"
      ]
     },
     "execution_count": 8,
     "metadata": {},
     "output_type": "execute_result"
    }
   ],
   "source": [
    "x.dtype"
   ]
  },
  {
   "cell_type": "code",
   "execution_count": 9,
   "id": "fc8f9ffa-a794-4a33-ba58-1dd15da40412",
   "metadata": {},
   "outputs": [
    {
     "data": {
      "text/plain": [
       "15001854373277047436198242290145517305388482992930600675982659141022997301136231852747750338252929304662211179547343221517355871618144888418126677118426316285710869708654747018414611358127276155685542925241580658320076709306406102923374041351698342814593380116222138628562701108304593794496920724765623217655952904706494530980439597920059573245022389651140609623144504188228753399496467890331686691934509420622349909289388610383502541010266365883527842420811521649223699206430341775864709624985341836195095277010092013677244053592586527689358841043398730716060792467278231288126170117063968143041877089581090537143337901391064482664176844147169056222321746049773797376358686780397808381063353126346217678753775353661978248901424171603451404851887410255054266457423864735607987855771967955909135731386248210245019709573669506332678541983637600674828411894571858107474683595557365332847005617077960621698301504923498118975239304644168217598824228917013743430831006892524017900912537127112124178008456650495922946673239329150053933251188557868957696"
      ]
     },
     "execution_count": 9,
     "metadata": {},
     "output_type": "execute_result"
    }
   ],
   "source": [
    "a=256**434\n",
    "a"
   ]
  },
  {
   "cell_type": "markdown",
   "id": "112976a8-81c6-4da0-8c87-62f8a30d2781",
   "metadata": {},
   "source": [
    "##### To save memory which integer takes"
   ]
  },
  {
   "cell_type": "code",
   "execution_count": 11,
   "id": "ebacd0f9-581a-4ee7-b74c-df668655861b",
   "metadata": {},
   "outputs": [],
   "source": [
    "x = np.array([56,12,35,48,71,11,28], dtype=np.int8)"
   ]
  },
  {
   "cell_type": "code",
   "execution_count": 12,
   "id": "f00ed1dc-67b9-447c-bd1c-d288af78c8f9",
   "metadata": {},
   "outputs": [
    {
     "data": {
      "text/plain": [
       "array([56, 12, 35, 48, 71, 11, 28], dtype=int8)"
      ]
     },
     "execution_count": 12,
     "metadata": {},
     "output_type": "execute_result"
    }
   ],
   "source": [
    "x"
   ]
  },
  {
   "cell_type": "code",
   "execution_count": 13,
   "id": "e4a55976-03e9-4072-869b-9ea6d0135bee",
   "metadata": {},
   "outputs": [
    {
     "name": "stderr",
     "output_type": "stream",
     "text": [
      "C:\\Users\\rajesh\\AppData\\Local\\Temp\\ipykernel_16376\\950334927.py:1: DeprecationWarning: NumPy will stop allowing conversion of out-of-bound Python integers to integer arrays.  The conversion of 255 to int8 will fail in the future.\n",
      "For the old behavior, usually:\n",
      "    np.array(value).astype(dtype)\n",
      "will give the desired result (the cast overflows).\n",
      "  x[0]=255\n"
     ]
    }
   ],
   "source": [
    "x[0]=255"
   ]
  },
  {
   "cell_type": "code",
   "execution_count": 14,
   "id": "e2597691-b5d2-4bd3-b8df-3b11aa278b27",
   "metadata": {},
   "outputs": [],
   "source": [
    "x[0]=127"
   ]
  },
  {
   "cell_type": "code",
   "execution_count": 15,
   "id": "0e6a64b3-79c5-43cd-a715-22a995703d12",
   "metadata": {},
   "outputs": [
    {
     "data": {
      "text/plain": [
       "127"
      ]
     },
     "execution_count": 15,
     "metadata": {},
     "output_type": "execute_result"
    }
   ],
   "source": [
    "x[0]"
   ]
  },
  {
   "cell_type": "code",
   "execution_count": 16,
   "id": "dcb1d812-2605-4138-8b59-4b970987f35c",
   "metadata": {},
   "outputs": [
    {
     "data": {
      "text/plain": [
       "array([127,  12,  35,  48,  71,  11,  28], dtype=int8)"
      ]
     },
     "execution_count": 16,
     "metadata": {},
     "output_type": "execute_result"
    }
   ],
   "source": [
    "x"
   ]
  },
  {
   "cell_type": "code",
   "execution_count": 24,
   "id": "022d3958-9e69-4f24-a70e-72eb07086058",
   "metadata": {},
   "outputs": [],
   "source": [
    "x = np.array([56,12,35,48,71,11,28], dtype=np.uint8) # uint - restricts data type to positive (unsigned) integer only"
   ]
  },
  {
   "cell_type": "code",
   "execution_count": 18,
   "id": "9b6ca65b-f718-4bab-93c9-999dc3658e5f",
   "metadata": {},
   "outputs": [
    {
     "name": "stderr",
     "output_type": "stream",
     "text": [
      "C:\\Users\\rajesh\\AppData\\Local\\Temp\\ipykernel_16376\\2738516971.py:1: DeprecationWarning: NumPy will stop allowing conversion of out-of-bound Python integers to integer arrays.  The conversion of -12 to uint8 will fail in the future.\n",
      "For the old behavior, usually:\n",
      "    np.array(value).astype(dtype)\n",
      "will give the desired result (the cast overflows).\n",
      "  x[1]=-12\n"
     ]
    }
   ],
   "source": [
    "x[1]=-12"
   ]
  },
  {
   "cell_type": "code",
   "execution_count": 19,
   "id": "a74582d7-6107-4b5a-9d7d-4df92fb5645a",
   "metadata": {},
   "outputs": [],
   "source": [
    "x[0]=12"
   ]
  },
  {
   "cell_type": "code",
   "execution_count": 20,
   "id": "bc324ca8-78fb-40fa-b61e-1547b580774d",
   "metadata": {},
   "outputs": [
    {
     "data": {
      "text/plain": [
       "array([ 12, 244,  35,  48,  71,  11,  28], dtype=uint8)"
      ]
     },
     "execution_count": 20,
     "metadata": {},
     "output_type": "execute_result"
    }
   ],
   "source": [
    "x"
   ]
  },
  {
   "cell_type": "code",
   "execution_count": 21,
   "id": "7e7b3093-39c4-4b1e-811f-71f5dd80e28a",
   "metadata": {},
   "outputs": [
    {
     "data": {
      "text/plain": [
       "7"
      ]
     },
     "execution_count": 21,
     "metadata": {},
     "output_type": "execute_result"
    }
   ],
   "source": [
    "x.size"
   ]
  },
  {
   "cell_type": "code",
   "execution_count": 23,
   "id": "0b7f090c-de60-446f-ad8e-36670a22439b",
   "metadata": {},
   "outputs": [
    {
     "data": {
      "text/plain": [
       "(7,)"
      ]
     },
     "execution_count": 23,
     "metadata": {},
     "output_type": "execute_result"
    }
   ],
   "source": [
    "x.shape #shows dimension"
   ]
  },
  {
   "cell_type": "code",
   "execution_count": 25,
   "id": "734247aa-08ca-4934-9f90-7e93d4e4eac8",
   "metadata": {},
   "outputs": [
    {
     "data": {
      "text/plain": [
       "11"
      ]
     },
     "execution_count": 25,
     "metadata": {},
     "output_type": "execute_result"
    }
   ],
   "source": [
    "x.min()"
   ]
  },
  {
   "cell_type": "code",
   "execution_count": 26,
   "id": "cd8af31d-14e3-46a5-8fae-95075ce3cfbb",
   "metadata": {},
   "outputs": [
    {
     "data": {
      "text/plain": [
       "71"
      ]
     },
     "execution_count": 26,
     "metadata": {},
     "output_type": "execute_result"
    }
   ],
   "source": [
    "x.max()"
   ]
  },
  {
   "cell_type": "code",
   "execution_count": 27,
   "id": "44706ad3-7ce3-4205-a188-4b07674a58a4",
   "metadata": {},
   "outputs": [
    {
     "data": {
      "text/plain": [
       "array([56, 12, 35, 48, 71, 11, 28], dtype=uint8)"
      ]
     },
     "execution_count": 27,
     "metadata": {},
     "output_type": "execute_result"
    }
   ],
   "source": [
    "x"
   ]
  },
  {
   "cell_type": "code",
   "execution_count": 33,
   "id": "1acbf282-1397-47e7-aca8-fa2fe2a19ba0",
   "metadata": {},
   "outputs": [],
   "source": [
    "x.sort() #by default ascending order"
   ]
  },
  {
   "cell_type": "code",
   "execution_count": 29,
   "id": "f9b89aed-5b95-4d8a-a42d-691fe3057673",
   "metadata": {},
   "outputs": [
    {
     "data": {
      "text/plain": [
       "array([11, 12, 28, 35, 48, 56, 71], dtype=uint8)"
      ]
     },
     "execution_count": 29,
     "metadata": {},
     "output_type": "execute_result"
    }
   ],
   "source": [
    "x"
   ]
  },
  {
   "cell_type": "code",
   "execution_count": 30,
   "id": "fc8483f8-1ce7-4d93-b762-8661b5998ac8",
   "metadata": {},
   "outputs": [
    {
     "data": {
      "text/plain": [
       "37.285714285714285"
      ]
     },
     "execution_count": 30,
     "metadata": {},
     "output_type": "execute_result"
    }
   ],
   "source": [
    "x.mean()"
   ]
  },
  {
   "cell_type": "code",
   "execution_count": 31,
   "id": "29e71148-8e0d-4775-af4d-4f78b582e2cc",
   "metadata": {},
   "outputs": [
    {
     "data": {
      "text/plain": [
       "20.782645821620953"
      ]
     },
     "execution_count": 31,
     "metadata": {},
     "output_type": "execute_result"
    }
   ],
   "source": [
    "x.std()"
   ]
  },
  {
   "cell_type": "code",
   "execution_count": 32,
   "id": "8f92ada3-8426-4297-865a-5046d7102f6d",
   "metadata": {},
   "outputs": [
    {
     "data": {
      "text/plain": [
       "261"
      ]
     },
     "execution_count": 32,
     "metadata": {},
     "output_type": "execute_result"
    }
   ],
   "source": [
    "x.sum()"
   ]
  },
  {
   "cell_type": "code",
   "execution_count": 40,
   "id": "be69ce71-23e9-4e85-9a28-03624950dee0",
   "metadata": {},
   "outputs": [],
   "source": [
    "y=np.array([67,89,45.34,69,11,35])"
   ]
  },
  {
   "cell_type": "code",
   "execution_count": 38,
   "id": "b956733b-27c7-48dd-a985-caf546e3b229",
   "metadata": {},
   "outputs": [
    {
     "data": {
      "text/plain": [
       "dtype('float64')"
      ]
     },
     "execution_count": 38,
     "metadata": {},
     "output_type": "execute_result"
    }
   ],
   "source": [
    "y.dtype"
   ]
  },
  {
   "cell_type": "code",
   "execution_count": 36,
   "id": "bcc449f4-ca69-48f8-8769-ddd9db92677b",
   "metadata": {},
   "outputs": [
    {
     "data": {
      "text/plain": [
       "array([67.  , 89.  , 45.34, 69.  , 11.  , 35.  ])"
      ]
     },
     "execution_count": 36,
     "metadata": {},
     "output_type": "execute_result"
    }
   ],
   "source": [
    "y"
   ]
  },
  {
   "cell_type": "code",
   "execution_count": 41,
   "id": "eeae2172-e045-4012-bc32-dba4e08da062",
   "metadata": {},
   "outputs": [],
   "source": [
    "z=np.array([67,89,45.34,69,11,True])"
   ]
  },
  {
   "cell_type": "code",
   "execution_count": 42,
   "id": "53d93d57-89c0-4aa6-8052-f5c265cc27c5",
   "metadata": {},
   "outputs": [
    {
     "data": {
      "text/plain": [
       "dtype('float64')"
      ]
     },
     "execution_count": 42,
     "metadata": {},
     "output_type": "execute_result"
    }
   ],
   "source": [
    "z.dtype"
   ]
  },
  {
   "cell_type": "code",
   "execution_count": 43,
   "id": "bc712f49-8b8b-474c-a8bb-068a8dbea3c1",
   "metadata": {},
   "outputs": [
    {
     "data": {
      "text/plain": [
       "array([67.  , 89.  , 45.34, 69.  , 11.  ,  1.  ])"
      ]
     },
     "execution_count": 43,
     "metadata": {},
     "output_type": "execute_result"
    }
   ],
   "source": [
    "z"
   ]
  },
  {
   "cell_type": "code",
   "execution_count": 44,
   "id": "45297d7d-2a4e-42bb-bb5e-007120775332",
   "metadata": {},
   "outputs": [],
   "source": [
    "z=np.zeros(10)"
   ]
  },
  {
   "cell_type": "code",
   "execution_count": 45,
   "id": "9098128a-4e7a-42e3-b658-4fd175c2898d",
   "metadata": {},
   "outputs": [
    {
     "data": {
      "text/plain": [
       "array([0., 0., 0., 0., 0., 0., 0., 0., 0., 0.])"
      ]
     },
     "execution_count": 45,
     "metadata": {},
     "output_type": "execute_result"
    }
   ],
   "source": [
    "z"
   ]
  },
  {
   "cell_type": "code",
   "execution_count": 46,
   "id": "d96377eb-3788-46a2-a304-371b0dc3b761",
   "metadata": {},
   "outputs": [
    {
     "data": {
      "text/plain": [
       "array([0, 0, 0, 0, 0, 0, 0, 0, 0, 0], dtype=int16)"
      ]
     },
     "execution_count": 46,
     "metadata": {},
     "output_type": "execute_result"
    }
   ],
   "source": [
    "z=np.zeros(10,dtype=np.int16)\n",
    "z"
   ]
  },
  {
   "cell_type": "code",
   "execution_count": 47,
   "id": "2bb49b64-31c0-4e38-92f1-c8f95fc61406",
   "metadata": {},
   "outputs": [
    {
     "data": {
      "text/plain": [
       "array([1, 1, 1, 1, 1, 1, 1, 1, 1, 1], dtype=int16)"
      ]
     },
     "execution_count": 47,
     "metadata": {},
     "output_type": "execute_result"
    }
   ],
   "source": [
    "o=np.ones(10,dtype=np.int16)\n",
    "o"
   ]
  },
  {
   "cell_type": "code",
   "execution_count": 48,
   "id": "a8fc9c29-a992-414b-92ff-822256d87f4e",
   "metadata": {},
   "outputs": [],
   "source": [
    "q=2*np.ones(5,dtype=np.int16)"
   ]
  },
  {
   "cell_type": "code",
   "execution_count": 49,
   "id": "e4e19f9d-2b8b-45a1-96fd-7b284ced0914",
   "metadata": {},
   "outputs": [
    {
     "data": {
      "text/plain": [
       "array([2, 2, 2, 2, 2], dtype=int16)"
      ]
     },
     "execution_count": 49,
     "metadata": {},
     "output_type": "execute_result"
    }
   ],
   "source": [
    "q"
   ]
  },
  {
   "cell_type": "code",
   "execution_count": 51,
   "id": "8db8eab7-bf95-4032-b4e2-4f0aec01db77",
   "metadata": {},
   "outputs": [
    {
     "data": {
      "text/plain": [
       "array([0, 1, 2, 3, 4, 5, 6, 7, 8, 9])"
      ]
     },
     "execution_count": 51,
     "metadata": {},
     "output_type": "execute_result"
    }
   ],
   "source": [
    "np.arange(10)"
   ]
  },
  {
   "cell_type": "code",
   "execution_count": 52,
   "id": "3ab22037-e62b-40b9-8b6b-d9d011a5aefe",
   "metadata": {},
   "outputs": [
    {
     "data": {
      "text/plain": [
       "array([4, 5, 6, 7, 8, 9])"
      ]
     },
     "execution_count": 52,
     "metadata": {},
     "output_type": "execute_result"
    }
   ],
   "source": [
    "np.arange(4,10)"
   ]
  },
  {
   "cell_type": "code",
   "execution_count": 53,
   "id": "cb417dee-12dc-4905-9a9e-0469a5e3592f",
   "metadata": {},
   "outputs": [
    {
     "data": {
      "text/plain": [
       "array([ 2,  5,  8, 11, 14, 17])"
      ]
     },
     "execution_count": 53,
     "metadata": {},
     "output_type": "execute_result"
    }
   ],
   "source": [
    "np.arange(2,20,3)"
   ]
  },
  {
   "cell_type": "code",
   "execution_count": 54,
   "id": "f5374e8f-9b6f-47bf-b4d3-3d33daff8fae",
   "metadata": {},
   "outputs": [
    {
     "data": {
      "text/plain": [
       "array([20, 17, 14, 11,  8,  5,  2])"
      ]
     },
     "execution_count": 54,
     "metadata": {},
     "output_type": "execute_result"
    }
   ],
   "source": [
    "np.arange(20,1,-3)"
   ]
  },
  {
   "cell_type": "code",
   "execution_count": 55,
   "id": "5cae6d13-aae2-4dfa-9878-18be5994464d",
   "metadata": {},
   "outputs": [
    {
     "data": {
      "text/plain": [
       "array([0.  , 0.33, 0.66, 0.99, 1.32, 1.65, 1.98, 2.31, 2.64, 2.97, 3.3 ,\n",
       "       3.63, 3.96, 4.29, 4.62, 4.95, 5.28, 5.61, 5.94, 6.27, 6.6 , 6.93,\n",
       "       7.26, 7.59, 7.92, 8.25, 8.58, 8.91, 9.24, 9.57, 9.9 ])"
      ]
     },
     "execution_count": 55,
     "metadata": {},
     "output_type": "execute_result"
    }
   ],
   "source": [
    "np.arange(0,10,0.33)"
   ]
  },
  {
   "cell_type": "code",
   "execution_count": 56,
   "id": "7b5715d9-2207-4681-a4f5-513dfff59173",
   "metadata": {},
   "outputs": [
    {
     "data": {
      "text/plain": [
       "array([], dtype=int32)"
      ]
     },
     "execution_count": 56,
     "metadata": {},
     "output_type": "execute_result"
    }
   ],
   "source": [
    "np.arange(10,-20,3)"
   ]
  },
  {
   "cell_type": "code",
   "execution_count": 57,
   "id": "cd2459b1-28e0-470d-b2fa-2f3d86e495a3",
   "metadata": {},
   "outputs": [
    {
     "data": {
      "text/plain": [
       "array([ 10,   7,   4,   1,  -2,  -5,  -8, -11, -14, -17])"
      ]
     },
     "execution_count": 57,
     "metadata": {},
     "output_type": "execute_result"
    }
   ],
   "source": [
    "np.arange(10,-20,-3)"
   ]
  },
  {
   "cell_type": "code",
   "execution_count": 58,
   "id": "c92cc398-620f-4ae6-916c-5194b202caa9",
   "metadata": {},
   "outputs": [
    {
     "data": {
      "text/plain": [
       "array([ 1. ,  3.5,  6. ,  8.5, 11. ])"
      ]
     },
     "execution_count": 58,
     "metadata": {},
     "output_type": "execute_result"
    }
   ],
   "source": [
    "np.linspace(1,11,5) #linearly space 5 elements between 5 to 11"
   ]
  },
  {
   "cell_type": "markdown",
   "id": "57cdac75-ed5b-4de1-8d7c-9f318cbe0c48",
   "metadata": {},
   "source": [
    "##### Array Operations"
   ]
  },
  {
   "cell_type": "code",
   "execution_count": 59,
   "id": "59f924c1-f48f-470e-ba45-8d3a79927d90",
   "metadata": {},
   "outputs": [],
   "source": [
    "num1 = np.array([56,12,33,14,68,99])\n",
    "num2 = np.array([28,28,19,39,38,74])"
   ]
  },
  {
   "cell_type": "code",
   "execution_count": 60,
   "id": "47b16b50-13cd-4a9d-8f2c-71886f12d8ec",
   "metadata": {},
   "outputs": [
    {
     "data": {
      "text/plain": [
       "array([ 66,  22,  43,  24,  78, 109])"
      ]
     },
     "execution_count": 60,
     "metadata": {},
     "output_type": "execute_result"
    }
   ],
   "source": [
    "num1+10"
   ]
  },
  {
   "cell_type": "code",
   "execution_count": 61,
   "id": "ff83c727-9394-45b4-aeeb-d87e4caa31c9",
   "metadata": {},
   "outputs": [
    {
     "data": {
      "text/plain": [
       "array([ 5.6,  5.6,  3.8,  7.8,  7.6, 14.8])"
      ]
     },
     "execution_count": 61,
     "metadata": {},
     "output_type": "execute_result"
    }
   ],
   "source": [
    "num2/5"
   ]
  },
  {
   "cell_type": "code",
   "execution_count": 62,
   "id": "e9444656-07a5-4869-b729-d909bfe7cac7",
   "metadata": {},
   "outputs": [
    {
     "data": {
      "text/plain": [
       "array([224,  48, 132,  56, 272, 396])"
      ]
     },
     "execution_count": 62,
     "metadata": {},
     "output_type": "execute_result"
    }
   ],
   "source": [
    "num1*4"
   ]
  },
  {
   "cell_type": "code",
   "execution_count": 63,
   "id": "b4f30edd-1e19-4d69-84d2-785e840801da",
   "metadata": {},
   "outputs": [
    {
     "name": "stdout",
     "output_type": "stream",
     "text": [
      "[56 12 33 14 68 99]\n"
     ]
    }
   ],
   "source": [
    "print(num1)"
   ]
  },
  {
   "cell_type": "code",
   "execution_count": 65,
   "id": "252f11b5-aeed-4cff-9645-c40f4765d756",
   "metadata": {},
   "outputs": [
    {
     "data": {
      "text/plain": [
       "[56, 12, 33, 14, 68, 99, 56, 12, 33, 14, 68, 99, 56, 12, 33, 14, 68, 99]"
      ]
     },
     "execution_count": 65,
     "metadata": {},
     "output_type": "execute_result"
    }
   ],
   "source": [
    "[56,12,33,14,68,99]*3 #performing *3 on list"
   ]
  },
  {
   "cell_type": "code",
   "execution_count": 66,
   "id": "43741493-7ecc-4d92-94fd-69f3a44c0cb7",
   "metadata": {},
   "outputs": [
    {
     "data": {
      "text/plain": [
       "array([ 84,  40,  52,  53, 106, 173])"
      ]
     },
     "execution_count": 66,
     "metadata": {},
     "output_type": "execute_result"
    }
   ],
   "source": [
    "num1+num2"
   ]
  },
  {
   "cell_type": "code",
   "execution_count": 67,
   "id": "d296f2fd-d14f-4d7f-86c3-adc730bd3c6f",
   "metadata": {},
   "outputs": [
    {
     "data": {
      "text/plain": [
       "array([ 28, -16,  14, -25,  30,  25])"
      ]
     },
     "execution_count": 67,
     "metadata": {},
     "output_type": "execute_result"
    }
   ],
   "source": [
    "num1-num2"
   ]
  },
  {
   "cell_type": "markdown",
   "id": "bed27937-974b-40c5-af63-6b89e2322e72",
   "metadata": {},
   "source": [
    "##### Matrix"
   ]
  },
  {
   "cell_type": "code",
   "execution_count": 73,
   "id": "910e2cf8-2dd8-4908-8c73-07aff0336226",
   "metadata": {},
   "outputs": [
    {
     "data": {
      "text/plain": [
       "array([[4, 6, 7],\n",
       "       [1, 2, 3],\n",
       "       [8, 0, 2],\n",
       "       [9, 3, 5]])"
      ]
     },
     "execution_count": 73,
     "metadata": {},
     "output_type": "execute_result"
    }
   ],
   "source": [
    "M=np.array([[4,6,7],[1,2,3],[8,0,2],[9,3,5]]) #Collection of arrays of equal length\n",
    "M"
   ]
  },
  {
   "cell_type": "code",
   "execution_count": 74,
   "id": "9f049ccb-52a4-4a1c-8200-d77c0564da76",
   "metadata": {},
   "outputs": [
    {
     "data": {
      "text/plain": [
       "(4, 3)"
      ]
     },
     "execution_count": 74,
     "metadata": {},
     "output_type": "execute_result"
    }
   ],
   "source": [
    "M.shape"
   ]
  },
  {
   "cell_type": "code",
   "execution_count": 75,
   "id": "40440f8a-c780-435a-804d-e30b4b80213f",
   "metadata": {},
   "outputs": [
    {
     "data": {
      "text/plain": [
       "dtype('int32')"
      ]
     },
     "execution_count": 75,
     "metadata": {},
     "output_type": "execute_result"
    }
   ],
   "source": [
    "M.dtype"
   ]
  },
  {
   "cell_type": "code",
   "execution_count": 76,
   "id": "badf7316-4eca-401b-aa6c-11fe27531a2b",
   "metadata": {},
   "outputs": [
    {
     "data": {
      "text/plain": [
       "12"
      ]
     },
     "execution_count": 76,
     "metadata": {},
     "output_type": "execute_result"
    }
   ],
   "source": [
    "M.size"
   ]
  },
  {
   "cell_type": "code",
   "execution_count": 77,
   "id": "34b9e374-59f6-4567-9e35-7e47adc512ce",
   "metadata": {},
   "outputs": [
    {
     "data": {
      "text/plain": [
       "2"
      ]
     },
     "execution_count": 77,
     "metadata": {},
     "output_type": "execute_result"
    }
   ],
   "source": [
    "M.ndim"
   ]
  },
  {
   "cell_type": "code",
   "execution_count": 78,
   "id": "d23ade81-1333-4563-88c8-c2762f84de68",
   "metadata": {},
   "outputs": [
    {
     "data": {
      "text/plain": [
       "0"
      ]
     },
     "execution_count": 78,
     "metadata": {},
     "output_type": "execute_result"
    }
   ],
   "source": [
    "M[2][1]"
   ]
  },
  {
   "cell_type": "code",
   "execution_count": 79,
   "id": "83a9f6a9-590c-4a50-9970-730ba3d14299",
   "metadata": {},
   "outputs": [
    {
     "data": {
      "text/plain": [
       "0"
      ]
     },
     "execution_count": 79,
     "metadata": {},
     "output_type": "execute_result"
    }
   ],
   "source": [
    "M[2,1]"
   ]
  },
  {
   "cell_type": "code",
   "execution_count": 81,
   "id": "d0c62d71-db3e-4d94-af4e-72aeae5df3e2",
   "metadata": {},
   "outputs": [
    {
     "data": {
      "text/plain": [
       "array([[1, 2],\n",
       "       [8, 0]])"
      ]
     },
     "execution_count": 81,
     "metadata": {},
     "output_type": "execute_result"
    }
   ],
   "source": [
    "M[1:3,0:2] #slicing"
   ]
  },
  {
   "cell_type": "code",
   "execution_count": 82,
   "id": "e91c92dd-778f-4e48-b24d-26687df2b0b4",
   "metadata": {},
   "outputs": [],
   "source": [
    "M1=M.reshape(3,4)"
   ]
  },
  {
   "cell_type": "code",
   "execution_count": 83,
   "id": "4f24291f-20a0-4480-8d50-56f72037a805",
   "metadata": {},
   "outputs": [
    {
     "data": {
      "text/plain": [
       "array([[4, 6, 7, 1],\n",
       "       [2, 3, 8, 0],\n",
       "       [2, 9, 3, 5]])"
      ]
     },
     "execution_count": 83,
     "metadata": {},
     "output_type": "execute_result"
    }
   ],
   "source": [
    "M1"
   ]
  },
  {
   "cell_type": "code",
   "execution_count": 84,
   "id": "a905ce19-903c-483c-9b60-e7b0387a27fb",
   "metadata": {},
   "outputs": [],
   "source": [
    "M2=M.reshape(6,2)"
   ]
  },
  {
   "cell_type": "code",
   "execution_count": 85,
   "id": "749e9adb-55a1-4f49-b7bc-60de54c00ab0",
   "metadata": {},
   "outputs": [
    {
     "data": {
      "text/plain": [
       "array([[4, 6],\n",
       "       [7, 1],\n",
       "       [2, 3],\n",
       "       [8, 0],\n",
       "       [2, 9],\n",
       "       [3, 5]])"
      ]
     },
     "execution_count": 85,
     "metadata": {},
     "output_type": "execute_result"
    }
   ],
   "source": [
    "M2"
   ]
  },
  {
   "cell_type": "code",
   "execution_count": 86,
   "id": "25b94518-d1a8-4ecf-883d-baea8c3d73e4",
   "metadata": {},
   "outputs": [
    {
     "data": {
      "text/plain": [
       "array([[4, 6, 7],\n",
       "       [7, 8, 3],\n",
       "       [1, 1, 2],\n",
       "       [9, 3, 5]])"
      ]
     },
     "execution_count": 86,
     "metadata": {},
     "output_type": "execute_result"
    }
   ],
   "source": [
    "M[1:3,0:2]=np.array([[7,8],[1,1]])\n",
    "M"
   ]
  },
  {
   "cell_type": "code",
   "execution_count": 88,
   "id": "5669cb93-c25b-49fc-b4a5-9daafb14cb80",
   "metadata": {},
   "outputs": [
    {
     "data": {
      "text/plain": [
       "array([[4, 6, 7, 7, 8, 3],\n",
       "       [1, 1, 2, 9, 3, 5]])"
      ]
     },
     "execution_count": 88,
     "metadata": {},
     "output_type": "execute_result"
    }
   ],
   "source": [
    "M.reshape(2,-1) # I have fixed 2 rows and columns are adjusted accordingly by program"
   ]
  },
  {
   "cell_type": "code",
   "execution_count": 89,
   "id": "66eee708-941b-4ec4-9614-b1acfc975e0a",
   "metadata": {},
   "outputs": [
    {
     "data": {
      "text/plain": [
       "array([[4, 6, 7, 7],\n",
       "       [8, 3, 1, 1],\n",
       "       [2, 9, 3, 5]])"
      ]
     },
     "execution_count": 89,
     "metadata": {},
     "output_type": "execute_result"
    }
   ],
   "source": [
    "M.reshape(-1,4)"
   ]
  },
  {
   "cell_type": "code",
   "execution_count": 90,
   "id": "aa6a0dca-0ba6-4036-b578-f9d1a095580b",
   "metadata": {},
   "outputs": [
    {
     "data": {
      "text/plain": [
       "array([[4, 6, 7, 7],\n",
       "       [8, 3, 1, 1],\n",
       "       [2, 9, 3, 5]])"
      ]
     },
     "execution_count": 90,
     "metadata": {},
     "output_type": "execute_result"
    }
   ],
   "source": [
    "M.reshape(-2,4)"
   ]
  },
  {
   "cell_type": "code",
   "execution_count": 94,
   "id": "6b8e4644-233f-449d-bef4-1ce98ece25c5",
   "metadata": {},
   "outputs": [
    {
     "data": {
      "text/plain": [
       "array([4, 6, 7, 7, 8, 3, 1, 1, 2, 9, 3, 5])"
      ]
     },
     "execution_count": 94,
     "metadata": {},
     "output_type": "execute_result"
    }
   ],
   "source": [
    "M.reshape(-1) #make array one dimensional"
   ]
  },
  {
   "cell_type": "code",
   "execution_count": 96,
   "id": "8961428b-a135-4820-8310-f1c8aabe23ab",
   "metadata": {},
   "outputs": [
    {
     "data": {
      "text/plain": [
       "array([4, 6, 7, 7, 8, 3, 1, 1, 2, 9, 3, 5])"
      ]
     },
     "execution_count": 96,
     "metadata": {},
     "output_type": "execute_result"
    }
   ],
   "source": [
    "M.flatten() #makes array one dimensional"
   ]
  },
  {
   "cell_type": "code",
   "execution_count": 98,
   "id": "2232c493-ff84-493e-9e51-10e2cc0a0e5d",
   "metadata": {},
   "outputs": [
    {
     "data": {
      "text/plain": [
       "array([[4, 7, 1, 9],\n",
       "       [6, 8, 1, 3],\n",
       "       [7, 3, 2, 5]])"
      ]
     },
     "execution_count": 98,
     "metadata": {},
     "output_type": "execute_result"
    }
   ],
   "source": [
    "M.T # Transpose"
   ]
  },
  {
   "cell_type": "code",
   "execution_count": 99,
   "id": "c354eb0b-173e-4cbb-a46c-aa3f43658849",
   "metadata": {},
   "outputs": [
    {
     "data": {
      "text/plain": [
       "<function ndarray.min>"
      ]
     },
     "execution_count": 99,
     "metadata": {},
     "output_type": "execute_result"
    }
   ],
   "source": [
    "M.min"
   ]
  },
  {
   "cell_type": "code",
   "execution_count": 100,
   "id": "039ec603-5ac8-4a2e-b5df-9d8d909c2195",
   "metadata": {},
   "outputs": [
    {
     "data": {
      "text/plain": [
       "1"
      ]
     },
     "execution_count": 100,
     "metadata": {},
     "output_type": "execute_result"
    }
   ],
   "source": [
    "M.min()"
   ]
  },
  {
   "cell_type": "code",
   "execution_count": 101,
   "id": "c93970f8-8741-40fb-a115-636f18dba9ac",
   "metadata": {},
   "outputs": [
    {
     "name": "stdout",
     "output_type": "stream",
     "text": [
      "Help on built-in function min in module builtins:\n",
      "\n",
      "min(...)\n",
      "    min(iterable, *[, default=obj, key=func]) -> value\n",
      "    min(arg1, arg2, *args, *[, key=func]) -> value\n",
      "    \n",
      "    With a single iterable argument, return its smallest item. The\n",
      "    default keyword-only argument specifies an object to return if\n",
      "    the provided iterable is empty.\n",
      "    With two or more arguments, return the smallest argument.\n",
      "\n"
     ]
    }
   ],
   "source": [
    "help(min)"
   ]
  },
  {
   "cell_type": "code",
   "execution_count": 102,
   "id": "e5868868-55ad-4fa3-904e-114545627d7b",
   "metadata": {},
   "outputs": [
    {
     "data": {
      "text/plain": [
       "array([4, 3, 1, 3])"
      ]
     },
     "execution_count": 102,
     "metadata": {},
     "output_type": "execute_result"
    }
   ],
   "source": [
    "M.min(axis=1) #find minimum in each row"
   ]
  },
  {
   "cell_type": "code",
   "execution_count": 103,
   "id": "4c45b60f-839c-4f8c-8f72-d453ef94bdf3",
   "metadata": {},
   "outputs": [
    {
     "data": {
      "text/plain": [
       "array([[4, 6, 7],\n",
       "       [7, 8, 3],\n",
       "       [1, 1, 2],\n",
       "       [9, 3, 5]])"
      ]
     },
     "execution_count": 103,
     "metadata": {},
     "output_type": "execute_result"
    }
   ],
   "source": [
    "M"
   ]
  },
  {
   "cell_type": "code",
   "execution_count": 109,
   "id": "ef2c1b52-90f5-48f7-b75c-cc097e45a9e7",
   "metadata": {},
   "outputs": [
    {
     "data": {
      "text/plain": [
       "array([1, 1, 2])"
      ]
     },
     "execution_count": 109,
     "metadata": {},
     "output_type": "execute_result"
    }
   ],
   "source": [
    "M.min(axis=0) #find the least row"
   ]
  },
  {
   "cell_type": "code",
   "execution_count": 110,
   "id": "8eb09803-74c5-416e-9d35-f8f853b28695",
   "metadata": {},
   "outputs": [
    {
     "data": {
      "text/plain": [
       "array([21, 18, 17])"
      ]
     },
     "execution_count": 110,
     "metadata": {},
     "output_type": "execute_result"
    }
   ],
   "source": [
    "M.sum(axis=0) # find sum column wise"
   ]
  },
  {
   "cell_type": "code",
   "execution_count": 111,
   "id": "0160de07-2884-4bcc-8c80-d5d3843462d9",
   "metadata": {},
   "outputs": [
    {
     "data": {
      "text/plain": [
       "array([17, 18,  4, 17])"
      ]
     },
     "execution_count": 111,
     "metadata": {},
     "output_type": "execute_result"
    }
   ],
   "source": [
    "M.sum(axis=1) #find sum row wise"
   ]
  },
  {
   "cell_type": "code",
   "execution_count": 107,
   "id": "f491ec7e-c2b5-42f2-a363-045faa35211a",
   "metadata": {},
   "outputs": [
    {
     "data": {
      "text/plain": [
       "array([67.  , 89.  , 45.34, 69.  , 11.  , 35.  ])"
      ]
     },
     "execution_count": 107,
     "metadata": {},
     "output_type": "execute_result"
    }
   ],
   "source": [
    "y"
   ]
  },
  {
   "cell_type": "code",
   "execution_count": 108,
   "id": "77b1731b-dd4e-413c-baf4-0e15a13cc083",
   "metadata": {},
   "outputs": [
    {
     "data": {
      "text/plain": [
       "array([[67.  , 89.  ],\n",
       "       [45.34, 69.  ],\n",
       "       [11.  , 35.  ]])"
      ]
     },
     "execution_count": 108,
     "metadata": {},
     "output_type": "execute_result"
    }
   ],
   "source": [
    "y.reshape(3,2)"
   ]
  },
  {
   "cell_type": "code",
   "execution_count": 113,
   "id": "ef8ddc06-6232-48df-aa85-5de3c4586af9",
   "metadata": {},
   "outputs": [
    {
     "data": {
      "text/plain": [
       "1"
      ]
     },
     "execution_count": 113,
     "metadata": {},
     "output_type": "execute_result"
    }
   ],
   "source": [
    "y.argmax() #Find the position of largest element"
   ]
  },
  {
   "cell_type": "code",
   "execution_count": 114,
   "id": "ef75c8dc-9eee-40e1-b3e6-c798509b074e",
   "metadata": {},
   "outputs": [
    {
     "data": {
      "text/plain": [
       "dtype('int32')"
      ]
     },
     "execution_count": 114,
     "metadata": {},
     "output_type": "execute_result"
    }
   ],
   "source": [
    "M.dtype"
   ]
  },
  {
   "cell_type": "code",
   "execution_count": 115,
   "id": "4fb8764d-6a94-4c72-a035-12b8e1527000",
   "metadata": {},
   "outputs": [],
   "source": [
    "M=M.astype(np.int16)"
   ]
  },
  {
   "cell_type": "code",
   "execution_count": 116,
   "id": "53bb11e1-467e-448b-a64f-9d6fc01f1ecb",
   "metadata": {},
   "outputs": [
    {
     "data": {
      "text/plain": [
       "array([[4, 6, 7],\n",
       "       [7, 8, 3],\n",
       "       [1, 1, 2],\n",
       "       [9, 3, 5]], dtype=int16)"
      ]
     },
     "execution_count": 116,
     "metadata": {},
     "output_type": "execute_result"
    }
   ],
   "source": [
    "M"
   ]
  },
  {
   "cell_type": "code",
   "execution_count": 117,
   "id": "360e7f0d-5353-4a2d-8a66-bac0b6365dfe",
   "metadata": {},
   "outputs": [
    {
     "data": {
      "text/plain": [
       "array([[4., 6., 7.],\n",
       "       [7., 8., 3.],\n",
       "       [1., 1., 2.],\n",
       "       [9., 3., 5.]], dtype=float16)"
      ]
     },
     "execution_count": 117,
     "metadata": {},
     "output_type": "execute_result"
    }
   ],
   "source": [
    "M=M.astype(np.float16)\n",
    "M"
   ]
  },
  {
   "cell_type": "code",
   "execution_count": 118,
   "id": "337a58f4-b17c-4a41-a210-694ced3f081c",
   "metadata": {},
   "outputs": [
    {
     "data": {
      "text/plain": [
       "array([11, 12, 28, 35, 48, 56, 71], dtype=uint8)"
      ]
     },
     "execution_count": 118,
     "metadata": {},
     "output_type": "execute_result"
    }
   ],
   "source": [
    "x"
   ]
  },
  {
   "cell_type": "code",
   "execution_count": 126,
   "id": "595edd9a-aebf-4a71-bf30-52a6cdb0db2f",
   "metadata": {},
   "outputs": [],
   "source": [
    "y=x # Both variables are now pointing to same memory location to avoid memory loss"
   ]
  },
  {
   "cell_type": "code",
   "execution_count": 120,
   "id": "8a41dc63-e65d-4c68-9503-101ace37c40a",
   "metadata": {},
   "outputs": [
    {
     "data": {
      "text/plain": [
       "array([11, 12, 28, 35, 48, 56, 71], dtype=uint8)"
      ]
     },
     "execution_count": 120,
     "metadata": {},
     "output_type": "execute_result"
    }
   ],
   "source": [
    "y"
   ]
  },
  {
   "cell_type": "code",
   "execution_count": 121,
   "id": "f5704e0e-e7d6-4c53-871e-2bc9745ae29b",
   "metadata": {},
   "outputs": [],
   "source": [
    "y[0]=20"
   ]
  },
  {
   "cell_type": "code",
   "execution_count": 122,
   "id": "128c4f0b-dd44-4189-9480-660270345782",
   "metadata": {},
   "outputs": [
    {
     "data": {
      "text/plain": [
       "array([20, 12, 28, 35, 48, 56, 71], dtype=uint8)"
      ]
     },
     "execution_count": 122,
     "metadata": {},
     "output_type": "execute_result"
    }
   ],
   "source": [
    "x"
   ]
  },
  {
   "cell_type": "code",
   "execution_count": 124,
   "id": "58b76655-3416-4566-bf3a-3683b2fb7300",
   "metadata": {},
   "outputs": [
    {
     "data": {
      "text/plain": [
       "2645453743824"
      ]
     },
     "execution_count": 124,
     "metadata": {},
     "output_type": "execute_result"
    }
   ],
   "source": [
    "id(y) #address of y"
   ]
  },
  {
   "cell_type": "code",
   "execution_count": 125,
   "id": "f21cd432-d7cf-46ce-b1ba-4e0551fb42b0",
   "metadata": {},
   "outputs": [
    {
     "data": {
      "text/plain": [
       "2645453743824"
      ]
     },
     "execution_count": 125,
     "metadata": {},
     "output_type": "execute_result"
    }
   ],
   "source": [
    "id(x)"
   ]
  },
  {
   "cell_type": "code",
   "execution_count": 127,
   "id": "21b3411b-6344-4bc6-9aaa-cd855b279ca4",
   "metadata": {},
   "outputs": [
    {
     "data": {
      "text/plain": [
       "array([20, 12, 28, 35, 48, 56, 71], dtype=uint8)"
      ]
     },
     "execution_count": 127,
     "metadata": {},
     "output_type": "execute_result"
    }
   ],
   "source": [
    "y"
   ]
  },
  {
   "cell_type": "code",
   "execution_count": 128,
   "id": "582bb259-5143-44e6-a7dd-e2167a30a90c",
   "metadata": {},
   "outputs": [],
   "source": [
    "c=y.copy()"
   ]
  },
  {
   "cell_type": "code",
   "execution_count": 129,
   "id": "adee85ec-d40d-486f-8b38-f9542182ee88",
   "metadata": {},
   "outputs": [],
   "source": [
    "c[0]=50"
   ]
  },
  {
   "cell_type": "code",
   "execution_count": 130,
   "id": "8c266c87-7b3c-43f2-9825-f1f0371da4c7",
   "metadata": {},
   "outputs": [
    {
     "data": {
      "text/plain": [
       "array([50, 12, 28, 35, 48, 56, 71], dtype=uint8)"
      ]
     },
     "execution_count": 130,
     "metadata": {},
     "output_type": "execute_result"
    }
   ],
   "source": [
    "c"
   ]
  },
  {
   "cell_type": "code",
   "execution_count": 131,
   "id": "de70e3c8-6f3e-4284-aef8-2f3f0f7babe7",
   "metadata": {},
   "outputs": [
    {
     "data": {
      "text/plain": [
       "array([20, 12, 28, 35, 48, 56, 71], dtype=uint8)"
      ]
     },
     "execution_count": 131,
     "metadata": {},
     "output_type": "execute_result"
    }
   ],
   "source": [
    "y"
   ]
  },
  {
   "cell_type": "code",
   "execution_count": 132,
   "id": "a0144bf0-295b-4fec-a52f-97188f762e97",
   "metadata": {},
   "outputs": [
    {
     "data": {
      "text/plain": [
       "2645460851984"
      ]
     },
     "execution_count": 132,
     "metadata": {},
     "output_type": "execute_result"
    }
   ],
   "source": [
    "id(c)"
   ]
  },
  {
   "cell_type": "code",
   "execution_count": 133,
   "id": "a380a00c-5c54-4913-ba18-19efacb8a1b6",
   "metadata": {},
   "outputs": [
    {
     "data": {
      "text/plain": [
       "2645453743824"
      ]
     },
     "execution_count": 133,
     "metadata": {},
     "output_type": "execute_result"
    }
   ],
   "source": [
    "id(y)"
   ]
  },
  {
   "cell_type": "code",
   "execution_count": null,
   "id": "b7ca4846-c86e-4393-a7eb-a142be9de3b9",
   "metadata": {},
   "outputs": [],
   "source": []
  }
 ],
 "metadata": {
  "kernelspec": {
   "display_name": "Python 3 (ipykernel)",
   "language": "python",
   "name": "python3"
  },
  "language_info": {
   "codemirror_mode": {
    "name": "ipython",
    "version": 3
   },
   "file_extension": ".py",
   "mimetype": "text/x-python",
   "name": "python",
   "nbconvert_exporter": "python",
   "pygments_lexer": "ipython3",
   "version": "3.11.7"
  }
 },
 "nbformat": 4,
 "nbformat_minor": 5
}
