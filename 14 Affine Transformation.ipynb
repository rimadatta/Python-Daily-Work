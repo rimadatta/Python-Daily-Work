{
 "cells": [
  {
   "cell_type": "code",
   "execution_count": null,
   "id": "34f330e0-27f6-4f08-a8d9-4f4bd4f720c0",
   "metadata": {},
   "outputs": [],
   "source": [
    "import numpy as np\n",
    "import cv2\n",
    "import matplotlib.pyplot as plt\n",
    "\n",
    "#Load the image\n",
    "image = cv2.imread('images/lena.png')\n",
    "\n",
    "# Define Transformation parameters\n",
    "tx = 50 # Translation along x-axis\n",
    "ty = 100 # Translation along y-axis\n",
    "angle = 45 # Rotation angle in degrees\n",
    "scale = 1.2 #Scaling Factor\n",
    "shear_x = 0.3 # Shearing along x-axis\n",
    "shear_y = 0.2 # Shearing along y-axis\n",
    "\n",
    "# Create transformation matrix\n",
    "M = np.float32([[scale * np.cos(np.radians(angle)), shear_x, tx],[shear_y, scale*np.sin(np.radians(angle)),ty]])\n",
    "\n",
    "#Apply transformation using warpAffine\n",
    "img_affine = cv2.warpAffine(image,M,(512,512))\n",
    "\n",
    "# Display original and affine transformed image\n",
    "final_img = np.hstack([image, img_affine])\n",
    "cv2.imshow(\"Affine Transformed Image\", final_img)\n",
    "cv2.waitKey(0)\n",
    "cv2.destroyAllWindows()"
   ]
  },
  {
   "cell_type": "code",
   "execution_count": 11,
   "id": "76f202f7-fb78-4b5c-b8eb-c1ca973a49fc",
   "metadata": {},
   "outputs": [
    {
     "data": {
      "text/plain": [
       "(512, 512, 3)"
      ]
     },
     "execution_count": 11,
     "metadata": {},
     "output_type": "execute_result"
    }
   ],
   "source": [
    "image.shape"
   ]
  },
  {
   "cell_type": "code",
   "execution_count": 12,
   "id": "1c890669-aa27-49d4-8df6-440f0ba256ea",
   "metadata": {},
   "outputs": [
    {
     "data": {
      "text/plain": [
       "(512, 512, 3)"
      ]
     },
     "execution_count": 12,
     "metadata": {},
     "output_type": "execute_result"
    }
   ],
   "source": [
    "img_affine.shape"
   ]
  },
  {
   "cell_type": "code",
   "execution_count": null,
   "id": "734b2e08-721c-48fb-9706-82c6542613dc",
   "metadata": {},
   "outputs": [],
   "source": []
  }
 ],
 "metadata": {
  "kernelspec": {
   "display_name": "Python 3 (ipykernel)",
   "language": "python",
   "name": "python3"
  },
  "language_info": {
   "codemirror_mode": {
    "name": "ipython",
    "version": 3
   },
   "file_extension": ".py",
   "mimetype": "text/x-python",
   "name": "python",
   "nbconvert_exporter": "python",
   "pygments_lexer": "ipython3",
   "version": "3.11.7"
  }
 },
 "nbformat": 4,
 "nbformat_minor": 5
}
