{
 "cells": [
  {
   "cell_type": "code",
   "execution_count": 1,
   "id": "6d0e5a34-64e5-46dc-b271-e8b487f44581",
   "metadata": {},
   "outputs": [],
   "source": [
    "import tensorflow as tf"
   ]
  },
  {
   "cell_type": "code",
   "execution_count": 2,
   "id": "a28fd8e7-78a9-4a3b-bdf8-5036d183ba48",
   "metadata": {},
   "outputs": [
    {
     "data": {
      "text/plain": [
       "<module 'tensorflow' from 'C:\\\\Users\\\\rajesh\\\\AppData\\\\Roaming\\\\Python\\\\Python311\\\\site-packages\\\\tensorflow\\\\__init__.py'>"
      ]
     },
     "execution_count": 2,
     "metadata": {},
     "output_type": "execute_result"
    }
   ],
   "source": [
    "tf"
   ]
  },
  {
   "cell_type": "code",
   "execution_count": 3,
   "id": "0db814f6-4490-4e7b-ac6f-0ec97d7902bf",
   "metadata": {},
   "outputs": [],
   "source": [
    "import numpy as np"
   ]
  },
  {
   "cell_type": "code",
   "execution_count": 5,
   "id": "727fe77e-9cad-4a4f-820c-cbeefe5d994f",
   "metadata": {},
   "outputs": [
    {
     "name": "stdout",
     "output_type": "stream",
     "text": [
      "Tensor a:  tf.Tensor([1 2 3], shape=(3,), dtype=int32)\n",
      "Tensor b:  tf.Tensor([4 5 6], shape=(3,), dtype=int32)\n"
     ]
    }
   ],
   "source": [
    "# Create Tensors\n",
    "a=tf.constant([1,2,3]) #Vector tensor\n",
    "b=tf.constant([4,5,6])\n",
    "\n",
    "print(\"Tensor a: \",a)\n",
    "print(\"Tensor b: \",b)"
   ]
  },
  {
   "cell_type": "code",
   "execution_count": 6,
   "id": "80bc6bd0-309a-4cde-b8f1-a796ab0522ab",
   "metadata": {},
   "outputs": [
    {
     "data": {
      "text/plain": [
       "<tf.Tensor: shape=(), dtype=int32, numpy=2>"
      ]
     },
     "execution_count": 6,
     "metadata": {},
     "output_type": "execute_result"
    }
   ],
   "source": [
    "a[1]"
   ]
  },
  {
   "cell_type": "code",
   "execution_count": 7,
   "id": "40e985f5-93d2-4cf9-ae9e-800270bc5dba",
   "metadata": {},
   "outputs": [
    {
     "data": {
      "text/plain": [
       "<tf.Tensor: shape=(), dtype=int32, numpy=1>"
      ]
     },
     "execution_count": 7,
     "metadata": {},
     "output_type": "execute_result"
    }
   ],
   "source": [
    "a[0]"
   ]
  },
  {
   "cell_type": "code",
   "execution_count": 10,
   "id": "97c70965-ad7e-48a5-ad19-897b0e7b6d95",
   "metadata": {},
   "outputs": [
    {
     "name": "stdout",
     "output_type": "stream",
     "text": [
      "Tensor x:  tf.Tensor(\n",
      "[[1 2 3]\n",
      " [7 8 9]], shape=(2, 3), dtype=int32)\n",
      "Tensor y:  tf.Tensor(\n",
      "[[4 5]\n",
      " [6 2]], shape=(2, 2), dtype=int32)\n"
     ]
    }
   ],
   "source": [
    "# Create Tensors\n",
    "x=tf.constant([[1,2,3],[7,8,9]]) #Matrix tensor\n",
    "y=tf.constant([[4,5],[6,2]])\n",
    "\n",
    "print(\"Tensor x: \",x)\n",
    "print(\"Tensor y: \",y)"
   ]
  },
  {
   "cell_type": "code",
   "execution_count": 11,
   "id": "1bc0d11e-6114-44b4-b4ce-63470f1177bd",
   "metadata": {},
   "outputs": [
    {
     "name": "stdout",
     "output_type": "stream",
     "text": [
      "Tensor z:  tf.Tensor(\n",
      "[[[1 2 3]\n",
      "  [7 8 9]]\n",
      "\n",
      " [[0 2 5]\n",
      "  [7 6 8]]], shape=(2, 2, 3), dtype=int32)\n"
     ]
    }
   ],
   "source": [
    "# Create Tensors\n",
    "z=tf.constant([[[1,2,3],[7,8,9]],[[0,2,5],[7,6,8]]]) #3 dimensional Tensor containing two 2x3 matrices\n",
    "\n",
    "print(\"Tensor z: \",z)"
   ]
  },
  {
   "cell_type": "code",
   "execution_count": 12,
   "id": "ae7de91a-0a4c-40fc-82ec-8f73338bcd3e",
   "metadata": {},
   "outputs": [
    {
     "data": {
      "text/plain": [
       "<tf.Tensor: shape=(3,), dtype=int32, numpy=array([5, 7, 9])>"
      ]
     },
     "execution_count": 12,
     "metadata": {},
     "output_type": "execute_result"
    }
   ],
   "source": [
    "a+b #adding two tensors same as tf.add()"
   ]
  },
  {
   "cell_type": "code",
   "execution_count": 13,
   "id": "694df9b3-1f09-4c1e-9a04-fb8c1d6b514f",
   "metadata": {},
   "outputs": [
    {
     "name": "stdout",
     "output_type": "stream",
     "text": [
      "Addition of two vector tensors is :  tf.Tensor([5 7 9], shape=(3,), dtype=int32)\n"
     ]
    }
   ],
   "source": [
    "c=tf.add(a,b)\n",
    "print(\"Addition of two vector tensors is : \",c)"
   ]
  },
  {
   "cell_type": "code",
   "execution_count": 14,
   "id": "fbb6e334-ddbe-47c4-b834-00c830393be5",
   "metadata": {},
   "outputs": [
    {
     "data": {
      "text/plain": [
       "<tf.Tensor: shape=(3,), dtype=int32, numpy=array([-3, -3, -3])>"
      ]
     },
     "execution_count": 14,
     "metadata": {},
     "output_type": "execute_result"
    }
   ],
   "source": [
    "s=tf.subtract(a,b)\n",
    "s"
   ]
  },
  {
   "cell_type": "code",
   "execution_count": 15,
   "id": "127a356e-a793-474e-a785-b21ab3fb9f17",
   "metadata": {},
   "outputs": [
    {
     "data": {
      "text/plain": [
       "<tf.Tensor: shape=(3,), dtype=int32, numpy=array([-3, -3, -3])>"
      ]
     },
     "execution_count": 15,
     "metadata": {},
     "output_type": "execute_result"
    }
   ],
   "source": [
    "a-b"
   ]
  },
  {
   "cell_type": "code",
   "execution_count": 16,
   "id": "985ad4f0-c729-42d3-85bf-9ce93c151860",
   "metadata": {},
   "outputs": [
    {
     "data": {
      "text/plain": [
       "tensorflow.python.framework.ops.EagerTensor"
      ]
     },
     "execution_count": 16,
     "metadata": {},
     "output_type": "execute_result"
    }
   ],
   "source": [
    "type(s)"
   ]
  },
  {
   "cell_type": "code",
   "execution_count": 19,
   "id": "c0127584-8b94-4d21-9538-132b364b9b42",
   "metadata": {},
   "outputs": [
    {
     "data": {
      "text/plain": [
       "array([-3, -3, -3])"
      ]
     },
     "execution_count": 19,
     "metadata": {},
     "output_type": "execute_result"
    }
   ],
   "source": [
    "s.numpy() #represent Tensor as array"
   ]
  },
  {
   "cell_type": "code",
   "execution_count": 18,
   "id": "5ddc9a8b-f4d6-48b1-8ff8-834337c01826",
   "metadata": {},
   "outputs": [
    {
     "data": {
      "text/plain": [
       "tensorflow.python.framework.ops.EagerTensor"
      ]
     },
     "execution_count": 18,
     "metadata": {},
     "output_type": "execute_result"
    }
   ],
   "source": [
    "type(s)"
   ]
  },
  {
   "cell_type": "code",
   "execution_count": 20,
   "id": "bfcd9ae1-3304-44ba-b755-d93219fb93ac",
   "metadata": {},
   "outputs": [],
   "source": [
    "m=tf.multiply(a,b)"
   ]
  },
  {
   "cell_type": "code",
   "execution_count": 21,
   "id": "6550da50-d937-4c88-a51b-89cc151d951f",
   "metadata": {},
   "outputs": [
    {
     "data": {
      "text/plain": [
       "<tf.Tensor: shape=(3,), dtype=int32, numpy=array([ 4, 10, 18])>"
      ]
     },
     "execution_count": 21,
     "metadata": {},
     "output_type": "execute_result"
    }
   ],
   "source": [
    "m"
   ]
  },
  {
   "cell_type": "code",
   "execution_count": 22,
   "id": "fc2d5e39-6b6f-4411-acbb-02649932c7c8",
   "metadata": {},
   "outputs": [
    {
     "data": {
      "text/plain": [
       "<tf.Tensor: shape=(3,), dtype=float64, numpy=array([0.25, 0.4 , 0.5 ])>"
      ]
     },
     "execution_count": 22,
     "metadata": {},
     "output_type": "execute_result"
    }
   ],
   "source": [
    "a/b"
   ]
  },
  {
   "cell_type": "code",
   "execution_count": 23,
   "id": "fb432e8e-e4a9-47f9-b3ec-6eab51464504",
   "metadata": {},
   "outputs": [
    {
     "data": {
      "text/plain": [
       "<tf.Tensor: shape=(3,), dtype=float64, numpy=array([0.25, 0.4 , 0.5 ])>"
      ]
     },
     "execution_count": 23,
     "metadata": {},
     "output_type": "execute_result"
    }
   ],
   "source": [
    "tf.divide(a,b)"
   ]
  },
  {
   "cell_type": "code",
   "execution_count": 25,
   "id": "38f771f9-0efc-4c09-8122-a3f21acfc0fa",
   "metadata": {},
   "outputs": [
    {
     "data": {
      "text/plain": [
       "<tf.Tensor: shape=(3,), dtype=int32, numpy=array([0, 0, 0])>"
      ]
     },
     "execution_count": 25,
     "metadata": {},
     "output_type": "execute_result"
    }
   ],
   "source": [
    "a//b #division result in integer form"
   ]
  },
  {
   "cell_type": "code",
   "execution_count": 26,
   "id": "94b8e1aa-fd5c-46e9-b295-16ca163cd2bc",
   "metadata": {},
   "outputs": [
    {
     "data": {
      "text/plain": [
       "<tf.Tensor: shape=(3,), dtype=int32, numpy=array([4, 2, 2])>"
      ]
     },
     "execution_count": 26,
     "metadata": {},
     "output_type": "execute_result"
    }
   ],
   "source": [
    "b//a"
   ]
  },
  {
   "cell_type": "code",
   "execution_count": 27,
   "id": "f2aa254a-0541-4223-8ed1-73aa606eae06",
   "metadata": {},
   "outputs": [
    {
     "name": "stdout",
     "output_type": "stream",
     "text": [
      "Matrix multiplication is  tf.Tensor(\n",
      "[[19 22]\n",
      " [43 50]], shape=(2, 2), dtype=int32)\n"
     ]
    }
   ],
   "source": [
    "# Matrix Multiplication\n",
    "a_matrix=tf.constant([[1,2],[3,4]])\n",
    "b_matrix=tf.constant([[5,6],[7,8]])\n",
    "g=tf.matmul(a_matrix,b_matrix)\n",
    "print(\"Matrix multiplication is \",g)"
   ]
  },
  {
   "cell_type": "code",
   "execution_count": 28,
   "id": "4251e507-896f-4e1c-b44a-4facc0d3e9c6",
   "metadata": {},
   "outputs": [
    {
     "data": {
      "text/plain": [
       "array([[19, 22],\n",
       "       [43, 50]])"
      ]
     },
     "execution_count": 28,
     "metadata": {},
     "output_type": "execute_result"
    }
   ],
   "source": [
    "g.numpy()"
   ]
  },
  {
   "cell_type": "code",
   "execution_count": null,
   "id": "4e01398d-0ffa-4377-b5c3-338148702e7e",
   "metadata": {},
   "outputs": [],
   "source": []
  }
 ],
 "metadata": {
  "kernelspec": {
   "display_name": "Python 3 (ipykernel)",
   "language": "python",
   "name": "python3"
  },
  "language_info": {
   "codemirror_mode": {
    "name": "ipython",
    "version": 3
   },
   "file_extension": ".py",
   "mimetype": "text/x-python",
   "name": "python",
   "nbconvert_exporter": "python",
   "pygments_lexer": "ipython3",
   "version": "3.11.7"
  }
 },
 "nbformat": 4,
 "nbformat_minor": 5
}
